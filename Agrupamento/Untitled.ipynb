{
 "cells": [
  {
   "cell_type": "markdown",
   "id": "65939c29-6040-4db3-b6bd-aa92b3265ba2",
   "metadata": {},
   "source": [
    "### Importação do banco de dados"
   ]
  },
  {
   "cell_type": "code",
   "execution_count": 20,
   "id": "705033d6-5cd4-4412-a7d1-d51f6aba9d27",
   "metadata": {},
   "outputs": [],
   "source": [
    "from sklearn import datasets\n",
    "iris = datasets.load_iris() #Importação da base de dados \"isis\"\n",
    "digitos = datasets.load_digits() #Importação da base de dados \"digits\""
   ]
  },
  {
   "cell_type": "markdown",
   "id": "80908064-0e2d-4293-9f1c-f0ac0ada3647",
   "metadata": {},
   "source": [
    "### Exibição inicial"
   ]
  },
  {
   "cell_type": "code",
   "execution_count": 21,
   "id": "5a7bd030-1de0-479d-92dc-74155037eab4",
   "metadata": {},
   "outputs": [
    {
     "name": "stdout",
     "output_type": "stream",
     "text": [
      "[[ 0.  0.  5. ...  0.  0.  0.]\n",
      " [ 0.  0.  0. ... 10.  0.  0.]\n",
      " [ 0.  0.  0. ... 16.  9.  0.]\n",
      " ...\n",
      " [ 0.  0.  1. ...  6.  0.  0.]\n",
      " [ 0.  0.  2. ... 12.  0.  0.]\n",
      " [ 0.  0. 10. ... 12.  1.  0.]]\n"
     ]
    }
   ],
   "source": [
    "print(digitos.data)"
   ]
  },
  {
   "cell_type": "markdown",
   "id": "dcaa65a6-5007-4d53-839f-6636f6f7addc",
   "metadata": {},
   "source": [
    "### Valores reais a serem aprendidos"
   ]
  },
  {
   "cell_type": "code",
   "execution_count": 11,
   "id": "222bb054-94ba-4e90-90c7-d5fc4138058b",
   "metadata": {},
   "outputs": [
    {
     "data": {
      "text/plain": [
       "array([0, 1, 2, ..., 8, 9, 8])"
      ]
     },
     "execution_count": 11,
     "metadata": {},
     "output_type": "execute_result"
    }
   ],
   "source": [
    "digits.target"
   ]
  },
  {
   "cell_type": "markdown",
   "id": "de01a255-4aff-45f4-bc0f-871e4bbee0b4",
   "metadata": {},
   "source": [
    "### Matriz de dados"
   ]
  },
  {
   "cell_type": "code",
   "execution_count": 25,
   "id": "21942ac7-43d2-4cdf-9882-19d018b0f489",
   "metadata": {},
   "outputs": [
    {
     "data": {
      "text/plain": [
       "array([[ 0.,  0.,  5., 13.,  9.,  1.,  0.,  0.],\n",
       "       [ 0.,  0., 13., 15., 10., 15.,  5.,  0.],\n",
       "       [ 0.,  3., 15.,  2.,  0., 11.,  8.,  0.],\n",
       "       [ 0.,  4., 12.,  0.,  0.,  8.,  8.,  0.],\n",
       "       [ 0.,  5.,  8.,  0.,  0.,  9.,  8.,  0.],\n",
       "       [ 0.,  4., 11.,  0.,  1., 12.,  7.,  0.],\n",
       "       [ 0.,  2., 14.,  5., 10., 12.,  0.,  0.],\n",
       "       [ 0.,  0.,  6., 13., 10.,  0.,  0.,  0.]])"
      ]
     },
     "execution_count": 25,
     "metadata": {},
     "output_type": "execute_result"
    }
   ],
   "source": [
    "digits.images[0]"
   ]
  }
 ],
 "metadata": {
  "kernelspec": {
   "display_name": "Python 3.8.8 ('base')",
   "language": "python",
   "name": "python3"
  },
  "language_info": {
   "codemirror_mode": {
    "name": "ipython",
    "version": 3
   },
   "file_extension": ".py",
   "mimetype": "text/x-python",
   "name": "python",
   "nbconvert_exporter": "python",
   "pygments_lexer": "ipython3",
   "version": "3.8.8"
  },
  "vscode": {
   "interpreter": {
    "hash": "ec1eed7ba1d2779ad571cb3d56c9cc2145750a9a366aa19de7670ee4a571ff8d"
   }
  }
 },
 "nbformat": 4,
 "nbformat_minor": 5
}
